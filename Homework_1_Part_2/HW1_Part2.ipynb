{
 "cells": [
  {
   "cell_type": "markdown",
   "metadata": {
    "id": "9FWMS19abYkY"
   },
   "source": [
    "# **Task 1**: Implementing and analyzing Custom Loss Functions in PyTorch"
   ]
  },
  {
   "cell_type": "markdown",
   "metadata": {
    "id": "pkOwunLxfbyG"
   },
   "source": [
    "This task sequence introduces the development of custom loss functions in PyTorch, with a focus on applying theoretical knowledge to practical implementation. As an initial example, the L1 Loss (Mean Absolute Error) function is fully implemented, demonstrating how to extend PyTorch's nn.Module to create custom loss computations. Following this example **implement** additional loss functions, including L2 Loss (Mean Squared Error), Binary Cross-Entropy Loss, and Cross-Entropy Loss for multi-class classification."
   ]
  },
  {
   "cell_type": "code",
   "execution_count": 1,
   "metadata": {
    "colab": {
     "base_uri": "https://localhost:8080/"
    },
    "id": "E2CVdpJMOEhn",
    "outputId": "758bf6e1-43f4-451d-eef2-dcf11f18bc2d"
   },
   "outputs": [
    {
     "name": "stdout",
     "output_type": "stream",
     "text": [
      "Loss: 0.375\n",
      "Gradients on y_pred: tensor([-0.2500, -0.2500,  0.0000, -0.2500])\n"
     ]
    }
   ],
   "source": [
    "import torch\n",
    "import torch.nn as nn\n",
    "\n",
    "class L1Loss(nn.Module):\n",
    "    \"\"\"\n",
    "    L1 Loss, also known as Mean Absolute Error (MAE).\n",
    "    \"\"\"\n",
    "    def forward(self, y_pred, y_true):\n",
    "        \"\"\"\n",
    "        Forward pass for L1 loss using PyTorch operations.\n",
    "\n",
    "        :param y_pred: Predicted values (Tensor).\n",
    "        :param y_true: Ground truth values (Tensor).\n",
    "        :return: Scalar tensor representing the L1 loss.\n",
    "        \"\"\"\n",
    "        ########################################################################\n",
    "        # TODO:                                                                #\n",
    "        # Implement the forward pass to calculate the L1 loss.                 #\n",
    "        # Use PyTorch tensor operations to compute the mean absolute difference#\n",
    "        # between y_pred and y_true.                                           #\n",
    "        ########################################################################\n",
    "        return torch.mean(torch.abs(y_pred - y_true))\n",
    "        ########################################################################\n",
    "        #                           END OF YOUR CODE                           #\n",
    "        ########################################################################\n",
    "\n",
    "\n",
    "# Example usage\n",
    "if __name__ == \"__main__\":\n",
    "    # TODO: Define sample predicted values and ground truth values for testing your implementation.\n",
    "    y_pred = torch.tensor([1.0, 2.0, 3.0, 4.0], requires_grad=True)\n",
    "    y_true = torch.tensor([1.5, 2.5, 3.0, 4.5])\n",
    "\n",
    "    # Initialize your custom L2Loss\n",
    "    criterion = L1Loss()\n",
    "\n",
    "    # TODO: Compute the loss using your L2Loss class and print it.\n",
    "    loss = criterion(y_pred, y_true)\n",
    "    print(f\"Loss: {loss}\")\n",
    "\n",
    "    # TODO: Perform a backward pass to compute gradients (optional demonstration of PyTorch's autograd).\n",
    "    loss.backward()\n",
    "    print(f\"Gradients on y_pred: {y_pred.grad}\")"
   ]
  },
  {
   "cell_type": "code",
   "execution_count": 2,
   "metadata": {
    "id": "9mYQ1IeTYUHv"
   },
   "outputs": [
    {
     "name": "stdout",
     "output_type": "stream",
     "text": [
      "Loss: 0.1875\n",
      "Gradients on y_pred: tensor([-0.2500, -0.2500,  0.0000, -0.2500])\n"
     ]
    }
   ],
   "source": [
    "class L2Loss(nn.Module):\n",
    "    \"\"\"\n",
    "    L2 Loss, also known as Mean Squared Error (MSE).\n",
    "    \"\"\"\n",
    "    def forward(self, y_pred, y_true):\n",
    "        \"\"\"\n",
    "        Forward pass for L2 loss using PyTorch operations.\n",
    "        :param y_pred: Predicted values (Tensor).\n",
    "        :param y_true: Ground truth values (Tensor).\n",
    "        :return: Scalar tensor representing the L2 loss.\n",
    "        \"\"\"\n",
    "        ########################################################################\n",
    "        # TODO:                                                                #\n",
    "        # Implement the forward pass to calculate the L2 loss.                 #\n",
    "        ########################################################################\n",
    "        return torch.mean((y_pred - y_true) ** 2)\n",
    "        ########################################################################\n",
    "        #                           END OF YOUR CODE                           #\n",
    "        ########################################################################\n",
    "\n",
    "# Example usage\n",
    "if __name__ == \"__main__\":\n",
    "    # TODO: Define sample predicted values and ground truth values for testing your implementation.\n",
    "    # Ensure y_pred and y_true are PyTorch tensors.\n",
    "    y_pred = torch.tensor([1.0, 2.0, 3.0, 4.0], requires_grad=True)\n",
    "    y_true = torch.tensor([1.5, 2.5, 3.0, 4.5])\n",
    "    # Initialize your custom L1Loss\n",
    "    criterion = L2Loss()\n",
    "    # TODO: Compute the loss using your L2Loss class and print it.\n",
    "    loss = criterion(y_pred, y_true)\n",
    "    print(f\"Loss: {loss}\")\n",
    "    # TODO: Perform a backward pass to compute gradients (optional demonstration of PyTorch's autograd).\n",
    "    loss.backward()\n",
    "    print(f\"Gradients on y_pred: {y_pred.grad}\")"
   ]
  },
  {
   "cell_type": "code",
   "execution_count": 3,
   "metadata": {
    "id": "qyonhh7xOHNN"
   },
   "outputs": [
    {
     "name": "stdout",
     "output_type": "stream",
     "text": [
      "Loss: 0.20273664593696594\n",
      "Gradients on y_pred: tensor([-0.2222,  0.2500,  0.2222, -0.2500, -0.2857])\n"
     ]
    }
   ],
   "source": [
    "class BCELoss(nn.Module):\n",
    "    \"\"\"\n",
    "    Binary Cross-Entropy (BCE) Loss implemented for PyTorch.\n",
    "    Note: PyTorch already provides nn.BCELoss, but implementing it manually can be educational.\n",
    "    \"\"\"\n",
    "    def forward(self, y_pred, y_true):\n",
    "        \"\"\"\n",
    "        Forward pass for BCE loss using PyTorch operations.\n",
    "\n",
    "        :param y_pred: Predicted probabilities (Tensor) with values in range [0, 1].\n",
    "        :param y_true: Ground truth values (Tensor) with binary values 0 or 1.\n",
    "        :return: Scalar tensor representing the BCE loss.\n",
    "        \"\"\"\n",
    "        ########################################################################\n",
    "        # TODO:                                                                #\n",
    "        # Implement the BCE loss calculation here.                             #\n",
    "        # Hint: Use PyTorch's torch.clamp to avoid log(0) which is undefined.  #\n",
    "        # Use torch.log for natural logarithm.                                 #\n",
    "        ########################################################################\n",
    "        y_pred = torch.clamp(y_pred, min=1e-7, max=1-1e-7)\n",
    "        loss = -torch.mean(y_true * torch.log(y_pred) + (1 - y_true) * torch.log(1 - y_pred))\n",
    "        return loss\n",
    "        ########################################################################\n",
    "        #                           END OF YOUR CODE                           #\n",
    "        ########################################################################\n",
    "\n",
    "# Example usage\n",
    "if __name__ == \"__main__\":\n",
    "    # TODO: Define sample predicted values and ground truth values for testing your implementation.\n",
    "    # Ensure y_pred and y_true are PyTorch tensors.\n",
    "    y_pred = torch.tensor([0.9, 0.2, 0.1, 0.8, 0.7], requires_grad=True)\n",
    "    y_true = torch.tensor([1.0, 0.0, 0.0, 1.0, 1.0])\n",
    "    # Initialize your custom BCELoss\n",
    "    criterion = BCELoss()\n",
    "\n",
    "    # TODO: Compute the loss using your BCELoss class and print it.\n",
    "    loss = criterion(y_pred, y_true)\n",
    "    print(f\"Loss: {loss.item()}\")\n",
    "    # TODO: Perform a backward pass to compute gradients (optional demonstration of PyTorch's autograd).\n",
    "    loss.backward()\n",
    "    print(f\"Gradients on y_pred: {y_pred.grad}\")"
   ]
  },
  {
   "cell_type": "code",
   "execution_count": 4,
   "metadata": {
    "id": "CagRBaWXag58"
   },
   "outputs": [
    {
     "name": "stdout",
     "output_type": "stream",
     "text": [
      "Loss: 0.46436864137649536\n",
      "Gradients on logits: tensor([[ 0.1156, -0.1857,  0.0701],\n",
      "        [-0.1857,  0.1156,  0.0701]])\n"
     ]
    }
   ],
   "source": [
    "class CELoss(nn.Module):\n",
    "    \"\"\"\n",
    "    Implement the Cross-Entropy Loss for multi-class classification in PyTorch.\n",
    "    \"\"\"\n",
    "    def __init__(self):\n",
    "        super(CELoss, self).__init__()\n",
    "\n",
    "    def forward(self, logits, targets):\n",
    "        \"\"\"\n",
    "        Forward pass for Cross-Entropy loss.\n",
    "\n",
    "        :param logits: Logits from the model (Tensor). Shape: [batch_size, num_classes].\n",
    "        :param targets: Ground truth class indices (Tensor). Shape: [batch_size].\n",
    "        :return: Scalar tensor representing the CE loss.\n",
    "        \"\"\"\n",
    "        ########################################################################\n",
    "        # TODO:                                                                #\n",
    "        # Implement the forward pass to calculate the Cross-Entropy loss.      #\n",
    "        # Hint: Don't use PyTorch's log_softmax and nll_loss functions.   #\n",
    "        ########################################################################\n",
    "        logits = logits - torch.max(logits, dim=1, keepdim=True).values\n",
    "        \n",
    "        # Compute the softmax\n",
    "        exp_logits = torch.exp(logits)\n",
    "        softmax_probs = exp_logits / torch.sum(exp_logits, dim=1, keepdim=True)\n",
    "        \n",
    "        # Convert targets to one-hot encoding\n",
    "        targets_one_hot = nn.functional.one_hot(targets, num_classes=logits.size(1)).float()\n",
    "        \n",
    "        # Compute the cross-entropy loss\n",
    "        loss = -torch.sum(targets_one_hot * torch.log(softmax_probs + 1e-7)) / logits.size(0)\n",
    "        return loss\n",
    "        ########################################################################\n",
    "        #                           END OF YOUR CODE                           #\n",
    "        ########################################################################\n",
    "\n",
    "# Example usage\n",
    "if __name__ == \"__main__\":\n",
    "    # TODO: Define sample predicted values and ground truth values for testing your implementation.\n",
    "    # Ensure y_pred and y_true are PyTorch tensors.\n",
    "    logits = torch.tensor([[1.0, 2.0, 0.5], [2.0, 1.0, 0.5]], requires_grad=True)\n",
    "    targets = torch.tensor([1, 0])\n",
    "    # Initialize your custom CELoss\n",
    "    criterion = CELoss()\n",
    "\n",
    "    # TODO: Compute the loss using your CELoss class and print it.\n",
    "    loss = criterion(logits, targets)\n",
    "    print(f\"Loss: {loss.item()}\")\n",
    "    # TODO: Perform a backward pass to compute gradients (optional demonstration of PyTorch's autograd).\n",
    "    loss.backward()\n",
    "    print(f\"Gradients on logits: {logits.grad}\")"
   ]
  },
  {
   "cell_type": "markdown",
   "metadata": {
    "id": "dttnSzVVdL7P"
   },
   "source": [
    "#**Task 2:** Implementing Custom Activation Functions in PyTorch\n"
   ]
  },
  {
   "cell_type": "markdown",
   "metadata": {
    "id": "CHCxEDGyv4w0"
   },
   "source": [
    "This task involves developing a set of custom activation functions in PyTorch, understanding their roles in neural networks, and how they can be implemented from scratch. Activation functions are crucial for introducing non-linearity into the network, allowing for the learning of complex patterns in the data. You'll start with an example of the ReLU (Rectified Linear Unit) activation function and then proceed to **implement** additional activation functions such as Sigmoid, Tanh, and Softmax, followed by a **comparison** with PyTorch's built-in implementations.\n",
    "\n",
    "**The backward calculation for the Softmax function is not straightforward; hence, you may rely solely on PyTorch's built-in functionality for the backward pass.**"
   ]
  },
  {
   "cell_type": "code",
   "execution_count": 5,
   "metadata": {
    "colab": {
     "base_uri": "https://localhost:8080/"
    },
    "id": "Krp6yaXKddz_",
    "outputId": "2fcbd3c4-a2ec-420a-db3b-7a72bb4c8d3c"
   },
   "outputs": [
    {
     "name": "stdout",
     "output_type": "stream",
     "text": [
      "Custom ReLU output: tensor([0., 0., 1., 2.], grad_fn=<MaximumBackward0>)\n",
      "Custom ReLU gradients: tensor([0., 0., 1., 1.], grad_fn=<IndexPutBackward0>)\n",
      "PyTorch ReLU output: tensor([0., 0., 1., 2.], grad_fn=<ReluBackward0>)\n",
      "PyTorch ReLU gradients: tensor([0., 0., 1., 1.])\n"
     ]
    }
   ],
   "source": [
    "class ReLU(nn.Module):\n",
    "    \"\"\"\n",
    "    Implement the ReLU activation function.\n",
    "    \"\"\"\n",
    "    def __init__(self):\n",
    "        super(ReLU, self).__init__()\n",
    "\n",
    "    def forward(self, x):\n",
    "        \"\"\"\n",
    "        Forward pass for ReLU.\n",
    "        :param x: Input tensor.\n",
    "        :return: Output tensor where ReLU(x) = max(0, x).\n",
    "        \"\"\"\n",
    "        ########################################################################\n",
    "        # TODO: Implement the ReLU activation function.                        #\n",
    "        ########################################################################\n",
    "        return torch.maximum(torch.zeros_like(x), x)\n",
    "        ########################################################################\n",
    "        #                           END OF YOUR CODE                           #\n",
    "        ########################################################################\n",
    "\n",
    "    def backward(grad_output):\n",
    "      \"\"\"\n",
    "      Backward pass for custom ReLU.\n",
    "      :param grad_output: Gradient tensor of the output.\n",
    "      :return: Gradient tensor for the input.\n",
    "      \"\"\"\n",
    "      ########################################################################\n",
    "      # TODO: Implement the backward computation for ReLU.                   #\n",
    "      ########################################################################\n",
    "      # Gradient of ReLU is 1 for input > 0; otherwise, it's 0\n",
    "      grad_input = grad_output.clone()\n",
    "      grad_input[grad_input >= 1] = 1\n",
    "      return grad_input\n",
    "      ########################################################################\n",
    "      #                           END OF YOUR CODE                           #\n",
    "      ########################################################################\n",
    "\n",
    "# Example usage\n",
    "if __name__ == \"__main__\":\n",
    "    # Define a sample input tensor.\n",
    "    x = torch.tensor([-1.0, 0.0, 1.0, 2.0], requires_grad=True)\n",
    "\n",
    "    # Initialize the custom ReLU activation function.\n",
    "    custom_relu = ReLU()\n",
    "\n",
    "    # Compute the activation using the custom ReLU class.\n",
    "    activated_x_custom = custom_relu(x)\n",
    "\n",
    "    # Perform a backward pass to compute gradients for the custom implementation.\n",
    "    gradients_custom = ReLU.backward(activated_x_custom)\n",
    "\n",
    "    # Print the outputs and gradients from the custom implementation.\n",
    "    print(\"Custom ReLU output:\", activated_x_custom)\n",
    "    print(\"Custom ReLU gradients:\", gradients_custom)\n",
    "\n",
    "    # Reset gradients to zero before another backward pass\n",
    "    x.grad = None\n",
    "\n",
    "    # Compute the activation using PyTorch's built-in relu function.\n",
    "    activated_x_torch = torch.relu(x)\n",
    "\n",
    "    # Perform a backward pass to compute gradients for PyTorch's implementation.\n",
    "    activated_x_torch.backward(torch.ones_like(x))\n",
    "    gradients_torch = x.grad\n",
    "\n",
    "    # Print the outputs and gradients from PyTorch's implementation.\n",
    "    print(\"PyTorch ReLU output:\", activated_x_torch)\n",
    "    print(\"PyTorch ReLU gradients:\", gradients_torch)"
   ]
  },
  {
   "cell_type": "code",
   "execution_count": 6,
   "metadata": {
    "id": "gJWfdJJKdeoV"
   },
   "outputs": [
    {
     "name": "stdout",
     "output_type": "stream",
     "text": [
      "Custom Sigmoid output: tensor([0.2689, 0.5000, 0.7311, 0.8808], grad_fn=<MulBackward0>)\n",
      "Custom Sigmmoid gradients: tensor([0.1966, 0.2500, 0.1966, 0.1050])\n",
      "PyTorch Sigmoid output: tensor([0.2689, 0.5000, 0.7311, 0.8808], grad_fn=<SigmoidBackward0>)\n",
      "PyTorch Sigmoid gradients: tensor([0.1966, 0.2500, 0.1966, 0.1050])\n"
     ]
    }
   ],
   "source": [
    "class Sigmoid(nn.Module):\n",
    "    \"\"\"\n",
    "    Implement the Sigmoid activation function.\n",
    "    \"\"\"\n",
    "    def __init__(self):\n",
    "        super(Sigmoid, self).__init__()\n",
    "\n",
    "    def forward(self, x):\n",
    "        \"\"\"\n",
    "        Forward pass for Sigmoid.\n",
    "        :param x: Input tensor.\n",
    "        :return: Output tensor where Sigmoid(x) = 1 / (1 + exp(-x)).\n",
    "        \"\"\"\n",
    "        ########################################################################\n",
    "        # TODO: Implement the Sigmoid activation function.                     #\n",
    "        ########################################################################\n",
    "        output = 1 / (1 + torch.exp(-x))\n",
    "        self.input = output\n",
    "        return output\n",
    "        ########################################################################\n",
    "        #                           END OF YOUR CODE                           #\n",
    "        ########################################################################\n",
    "\n",
    "    def backward(self, grad_output):\n",
    "        \"\"\"\n",
    "        Backward pass for custom Sigmoid.\n",
    "       :param grad_output: Gradient tensor of the output.\n",
    "       :return: Gradient tensor for the input.\n",
    "        \"\"\"\n",
    "        ########################################################################\n",
    "        # TODO: Implement the backward computation for Sigmoid.                #\n",
    "        ########################################################################\n",
    "        grad_input = grad_output * self.input * (1 - self.input)  \n",
    "        return grad_input\n",
    "        ########################################################################\n",
    "        #                           END OF YOUR CODE                           #\n",
    "        ########################################################################\n",
    "\n",
    "# Example usage\n",
    "if __name__ == \"__main__\":\n",
    "    # TODO: Test your Sigmoid implementation.\n",
    "    # Define a sample input tensor.\n",
    "    x = torch.tensor([-1.0, 0.0, 1.0, 2.0], requires_grad=True)\n",
    "\n",
    "    # Initialize the custom Sigmoid activation function.\n",
    "    custom_sigmoid = Sigmoid()\n",
    "\n",
    "    # Compute the activation using the custom ReLU class.\n",
    "    activated_x_custom = custom_sigmoid(x)\n",
    "\n",
    "    # Perform a backward pass to compute gradients for the custom implementation.\n",
    "    activated_x_custom.sum().backward()  \n",
    "    gradients_custom = x.grad\n",
    "\n",
    "    # Print the outputs and gradients from the custom implementation.\n",
    "    print(\"Custom Sigmoid output:\", activated_x_custom)\n",
    "    print(\"Custom Sigmmoid gradients:\", gradients_custom)\n",
    "\n",
    "    # Reset gradients to zero before another backward pass\n",
    "    x.grad = None\n",
    "\n",
    "    # Compute the activation using PyTorch's built-in relu function.\n",
    "    activated_x_torch = torch.sigmoid(x)\n",
    "\n",
    "    # Perform a backward pass to compute gradients for PyTorch's implementation.\n",
    "    activated_x_torch.backward(torch.ones_like(x))\n",
    "    gradients_torch = x.grad\n",
    "\n",
    "    # Print the outputs and gradients from PyTorch's implementation.\n",
    "    print(\"PyTorch Sigmoid output:\", activated_x_torch)\n",
    "    print(\"PyTorch Sigmoid gradients:\", gradients_torch)"
   ]
  },
  {
   "cell_type": "code",
   "execution_count": 7,
   "metadata": {
    "id": "RDdQGqu2di62"
   },
   "outputs": [
    {
     "name": "stdout",
     "output_type": "stream",
     "text": [
      "Custom Tanh output: tensor([-0.7616,  0.0000,  0.7616,  0.9640], grad_fn=<DivBackward0>)\n",
      "Custom Tanh gradients: tensor([0.4200, 1.0000, 0.4200, 0.0707])\n",
      "PyTorch Tanh output: tensor([-0.7616,  0.0000,  0.7616,  0.9640], grad_fn=<TanhBackward0>)\n",
      "PyTorch Tanh gradients: tensor([0.4200, 1.0000, 0.4200, 0.0707])\n"
     ]
    }
   ],
   "source": [
    "class Tanh(nn.Module):\n",
    "    \"\"\"\n",
    "    Implement the Tanh activation function.\n",
    "    \"\"\"\n",
    "    def __init__(self):\n",
    "        super(Tanh, self).__init__()\n",
    "\n",
    "    def forward(self, x):\n",
    "        \"\"\"\n",
    "        Forward pass for Tanh.\n",
    "        :param x: Input tensor.\n",
    "        :return: Output tensor where Tanh(x) = (exp(x) - exp(-x)) / (exp(x) + exp(-x)).\n",
    "        \"\"\"\n",
    "        ########################################################################\n",
    "        # TODO: Implement the Tanh activation function.                        #\n",
    "        ########################################################################\n",
    "        output = (torch.exp(x) - torch.exp(-x)) / (torch.exp(x) + torch.exp(-x))\n",
    "        self.input = output\n",
    "        return output\n",
    "        ########################################################################\n",
    "        #                           END OF YOUR CODE                           #\n",
    "        ########################################################################\n",
    "\n",
    "    def backward(self, grad_output):\n",
    "        \"\"\"\n",
    "        Backward pass for custom Tanh.\n",
    "       :param grad_output: Gradient tensor of the output.\n",
    "       :return: Gradient tensor for the input.\n",
    "        \"\"\"\n",
    "        ########################################################################\n",
    "        # TODO: Implement the backward computation for Tanh                    #\n",
    "        ########################################################################\n",
    "        grad_input = grad_output * (1 - self.input.pow(2))\n",
    "        ########################################################################\n",
    "        #                           END OF YOUR CODE                           #\n",
    "        ########################################################################\n",
    "\n",
    "# Example usage\n",
    "if __name__ == \"__main__\":\n",
    "    # TODO: Test your Tanh implementation.\n",
    "    # Define a sample input tensor.\n",
    "    x = torch.tensor([-1.0, 0.0, 1.0, 2.0], requires_grad=True)\n",
    "\n",
    "    # Initialize the custom Tanh activation function.\n",
    "    custom_tanh = Tanh()\n",
    "\n",
    "    # Compute the activation using the custom Tanh class.\n",
    "    activated_x_custom = custom_tanh(x)\n",
    "\n",
    "    # Perform a backward pass to compute gradients for the custom implementation.\n",
    "    activated_x_custom.sum().backward()  \n",
    "    gradients_custom = x.grad\n",
    "\n",
    "    # Print the outputs and gradients from the custom implementation.\n",
    "    print(\"Custom Tanh output:\", activated_x_custom)\n",
    "    print(\"Custom Tanh gradients:\", gradients_custom)\n",
    "\n",
    "    # Reset gradients to zero before another backward pass\n",
    "    x.grad = None\n",
    "\n",
    "    # Compute the activation using PyTorch's built-in relu function.\n",
    "    activated_x_torch = torch.tanh(x)\n",
    "\n",
    "    # Perform a backward pass to compute gradients for PyTorch's implementation.\n",
    "    activated_x_torch.backward(torch.ones_like(x))\n",
    "    gradients_torch = x.grad\n",
    "\n",
    "    # Print the outputs and gradients from PyTorch's implementation.\n",
    "    print(\"PyTorch Tanh output:\", activated_x_torch)\n",
    "    print(\"PyTorch Tanh gradients:\", gradients_torch)"
   ]
  },
  {
   "cell_type": "code",
   "execution_count": 8,
   "metadata": {
    "id": "GHGtfdCC3jw9"
   },
   "outputs": [
    {
     "name": "stdout",
     "output_type": "stream",
     "text": [
      "Custom Softmax output: tensor([0.0321, 0.0871, 0.2369, 0.6439], grad_fn=<DivBackward0>)\n",
      "Custom Softmax gradients: tensor([0., 0., 0., 0.])\n",
      "PyTorch Softmax output: tensor([0.0321, 0.0871, 0.2369, 0.6439], grad_fn=<SoftmaxBackward0>)\n",
      "PyTorch Softmax gradients: tensor([0., 0., 0., 0.])\n"
     ]
    }
   ],
   "source": [
    "class Softmax(nn.Module):\n",
    "    \"\"\"\n",
    "    Implement the Softmax activation function.\n",
    "    \"\"\"\n",
    "    def __init__(self):\n",
    "        super(Softmax, self).__init__()\n",
    "\n",
    "    def forward(self, x, dim=1):\n",
    "        \"\"\"\n",
    "        Forward pass for Softmax.\n",
    "        :param x: Input tensor.\n",
    "        :param dim: The dimension Softmax would be applied to.\n",
    "        :return: Output tensor after applying Softmax.\n",
    "        \"\"\"\n",
    "        ########################################################################\n",
    "        # TODO: Implement the Softmax activation function.                     #\n",
    "        # Hint: Subtract the maximum value in each row for numerical stability #\n",
    "        ########################################################################\n",
    "        exp_x = torch.exp(x - torch.max(x, dim=dim, keepdim=True).values)\n",
    "        return exp_x / torch.sum(exp_x, dim=dim, keepdim=True)\n",
    "        ########################################################################\n",
    "        #                           END OF YOUR CODE                           #\n",
    "        ########################################################################\n",
    "\n",
    "\n",
    "# Example usage\n",
    "if __name__ == \"__main__\":\n",
    "    # TODO: Test your Softmax implementation.\n",
    "    # Define a sample input tensor.\n",
    "    x = torch.tensor([-1.0, 0.0, 1.0, 2.0], requires_grad=True)\n",
    "\n",
    "    # Initialize the custom Softmax activation function.\n",
    "    custom_softmax = Softmax()\n",
    "\n",
    "    # Compute the activation using the custom Softmax class.\n",
    "    activated_x_custom = custom_softmax(x, dim=0)\n",
    "\n",
    "    dummy_grad = torch.tensor([[0.1, 0.2, 0.3, 0.4]])\n",
    "    \n",
    "    # Perform a backward pass to compute gradients for the custom implementation.\n",
    "    # activated_x_custom.backward(dummy_grad)\n",
    "    activated_x_custom.sum().backward()  \n",
    "    gradients_custom = x.grad\n",
    "\n",
    "    # Print the outputs and gradients from the custom implementation.\n",
    "    print(\"Custom Softmax output:\", activated_x_custom)\n",
    "    print(\"Custom Softmax gradients:\", gradients_custom)\n",
    "\n",
    "    # Reset gradients to zero before another backward pass\n",
    "    x.grad = None\n",
    "\n",
    "    # Compute the activation using PyTorch's built-in relu function.\n",
    "    activated_x_torch = torch.softmax(x, dim=0)\n",
    "\n",
    "    # Perform a backward pass to compute gradients for PyTorch's implementation.\n",
    "    activated_x_torch.backward(torch.ones_like(x))\n",
    "    gradients_torch = x.grad\n",
    "\n",
    "    # Print the outputs and gradients from PyTorch's implementation.\n",
    "    print(\"PyTorch Softmax output:\", activated_x_torch)\n",
    "    print(\"PyTorch Softmax gradients:\", gradients_torch)"
   ]
  },
  {
   "cell_type": "markdown",
   "metadata": {
    "id": "MXn80SlN-hpV"
   },
   "source": [
    "# **Task 3**: Deriving and Understanding the Sigmoid Function"
   ]
  },
  {
   "cell_type": "markdown",
   "metadata": {
    "id": "wpoKWs6o-HcP"
   },
   "source": [
    "The sigmoid function is a widely used activation function in the field of machine learning, especially in logistic regression and neural networks. It maps any real-valued number into the range between 0 and 1.\n",
    "\n",
    "1. Given the sigmoid function defined as $\\sigma(x) = \\frac{1}{1 + e^{-x}}$, **compute the derivative** $\\frac{d\\sigma(x)}{dx}$ **with respect to $x$**.\n",
    "\n",
    "2. A special property of the sigmoid function is that its derivative can be expressed in terms of the sigmoid function itself. If we denote $y = \\sigma(x)$, **show how the derivative you've computed can be re-written in terms of $y$**, where $y$ is the output of the sigmoid function.\n",
    "\n",
    "   *Hint: Your answer should only depend on $y$.*\n"
   ]
  },
  {
   "cell_type": "markdown",
   "metadata": {
    "id": "Uud8GNyXlXhv"
   },
   "source": [
    "-- Your solution here"
   ]
  },
  {
   "cell_type": "markdown",
   "metadata": {
    "id": "MDE6cU-EmcC0"
   },
   "source": [
    "# **Task 4**: Connecting Sigmoid and Softmax Functions"
   ]
  },
  {
   "cell_type": "markdown",
   "metadata": {
    "id": "b-um4CM3Kxwh"
   },
   "source": [
    "The sigmoid and softmax functions are foundational to machine learning, particularly in classification tasks. While the sigmoid function is traditionally used for binary classification, the softmax function generalizes this concept to multi-class problems. The sigmoid function can be seen as a special case of the softmax function when the output space consists of two classes.\n",
    "\n",
    "Consider a binary classification problem and the general form of the softmax function for an arbitrary vector $\\mathbf{z} $ with components $\\mathbf{z_i} $ for $\\mathbf( i = 1, \\ldots, K) $ classes. The softmax function is defined as:\n",
    "\n",
    "$$\n",
    "\\text{softmax}(\\mathbf{z})_i = \\frac{e^{z_i}}{\\sum_{j=1}^K e^{z_j}}\n",
    "$$\n",
    "\n",
    "Your task is to demonstrate that the softmax function simplifies to the sigmoid function in the context of binary classification.\n",
    "\n",
    "1. **Express the Softmax Function for Two Classes:**\n",
    "   Show the softmax function for a two-class system and define the components of the vector $\\mathbf{z} $ as arbitrary logits without specifying any particular values.\n",
    "\n",
    "2. **Derive the Sigmoid Function from Softmax:**\n",
    "   Simplify the expression for the probability of the first class and show how it is equivalent to the sigmoid function for an arbitrary logit.\n",
    "\n",
    "_Hint: Consider the nature of binary classification and how the probabilities must sum to one._\n"
   ]
  },
  {
   "cell_type": "markdown",
   "metadata": {
    "id": "B9nGOPLtlNKH"
   },
   "source": [
    "-- Your solution here"
   ]
  },
  {
   "cell_type": "markdown",
   "metadata": {
    "id": "mJerf9xSmf2q"
   },
   "source": [
    "# **Task 5:** Understanding Logits and Log Odds"
   ]
  },
  {
   "cell_type": "markdown",
   "metadata": {
    "id": "qMtKt3gAhRCY"
   },
   "source": [
    "In logistic regression and neural networks, the concept of logits and log odds play a central role in modeling probabilities.\n",
    "\n",
    "- **Logits:** The logit function is the inverse of the sigmoid function. It takes a probability value and maps it to the entire real number line, which can be interpreted as the log odds.\n",
    "\n",
    "- **Log Odds:** This is the logarithm of the odds ratio. For a probability $p$, the odds are $\\frac{p}{1-p}$, and the log odds, or logits, is the natural logarithm of this odds: $\\text{logit}(p) = \\log\\left(\\frac{p}{1-p}\\right)$. In logistic regression, we predict log odds with the linear combination of features, and then convert these predictions into probabilities using the sigmoid function.\n",
    "\n",
    "\n",
    "\n",
    "**The Sigmoid Inverse:** The inverse of the sigmoid function, denoted as $(\\sigma^{-1})$, is the logit function. Given the sigmoid function defined as:\n",
    "$$\n",
    "\\sigma(x) = \\frac{1}{1 + e^{-x}}\n",
    "$$\n",
    "**Derive its inverse, $(\\sigma^{-1}(y))$,** which takes a probability and gives the corresponding log odds.\n",
    "\n",
    "Hint: To find the inverse, set $y = \\sigma(x)$, and solve for $x$ in terms of $y$. The result will give you the logit function.\n",
    "\n"
   ]
  },
  {
   "cell_type": "markdown",
   "metadata": {
    "id": "63pRkBd-lZxE"
   },
   "source": [
    "-- Your solution here"
   ]
  },
  {
   "cell_type": "markdown",
   "metadata": {
    "id": "sJn6xXW91zr-"
   },
   "source": [
    "# Task 6: Understanding Backpropagation and the Chain Rule"
   ]
  },
  {
   "cell_type": "markdown",
   "metadata": {
    "id": "axREnEadzc-M"
   },
   "source": [
    "Background\n",
    "\n",
    "Backpropagation is an algorithm commonly used for training neural networks. It leverages the chain rule to calculate the gradient of the loss function with respect to each weight in the network. This gradient tells us how much the loss will change for a small change in the weights, and it's used to update the weights to minimize the loss.\n",
    "\n",
    "The chain rule is a fundamental principle in calculus that is used to find the derivative of composite functions. If we have functions nested within each other, the chain rule allows us to take the derivative of the entire expression by multiplying the derivatives of the constituent functions.\n",
    "\n",
    "1. **Chain Rule for Simple Composition**\n",
    "\n",
    "   Given a function composed as $f(u(x))$, where $u$ is a function of $x$, use the chain rule to find the derivative of $f$ with respect to $x$.\n",
    "\n",
    "   **Example Function:**\n",
    "\n",
    "   Let $f(u) = e^u$ and $u(x) = 2x + 3$. Compute $\\frac{df}{dx}$.\n",
    "\n",
    "   **Solution:**\n",
    "\n",
    "   First, find $\\frac{du}{dx}$ where $u(x) = 2x + 3$. The derivative is $\\frac{du}{dx} = 2$.\n",
    "\n",
    "   Then, compute $\\frac{df}{du}$ for $f(u) = e^u$. The derivative is $\\frac{df}{du} = e^u$.\n",
    "\n",
    "   Multiply $\\frac{du}{dx}$ by $\\frac{df}{du}$ to get $\\frac{df}{dx} = 2e^{(2x+3)}$.\n",
    "\n",
    "2. **Chain Rule for Nested Composition**\n",
    "\n",
    "   For a nested function $f(g(u(x)))$, where $g$ is a function of $u(x)$, and $u$ is a function of $x$, apply the chain rule to compute the derivative of $f$ with respect to $x$.\n",
    "\n",
    "   **Example Function:**\n",
    "\n",
    "   Let $f(g) = \\sin(g)$, $g(u) = u^2$, and $u(x) = 3x - 5$. Find $\\frac{df}{dx}$.\n",
    "\n",
    "   **Solution:**\n",
    "\n",
    "   Start by finding $\\frac{du}{dx}$ for $u(x) = 3x - 5$. The derivative is $\\frac{du}{dx} = 3$.\n",
    "\n",
    "   Next, find $\\frac{dg}{du}$ for $g(u) = u^2$. The derivative is $\\frac{dg}{du} = 2u$.\n",
    "\n",
    "   Then, compute $\\frac{df}{dg}$ for $f(g) = \\sin(g)$. The derivative is $\\frac{df}{dg} = \\cos(g)$.\n",
    "\n",
    "   By the chain rule, $\\frac{df}{dx} = \\frac{df}{dg} \\cdot \\frac{dg}{du} \\cdot \\frac{du}{dx} = \\cos(u^2) \\cdot 2u \\cdot 3$.\n",
    "\n",
    "   Substituting $u(x)$ into the derivative, we get $\\frac{df}{dx} = \\cos((3x - 5)^2) \\cdot 2(3x - 5) \\cdot 3$.\n"
   ]
  },
  {
   "cell_type": "markdown",
   "metadata": {
    "id": "5fYZgIlO1VMv"
   },
   "source": [
    "**Task:** Consider a neural network with a single neuron that takes two inputs $x_1$ and $x_2$, with weights $w_1$ and $w_2$ respectively, and a bias $b$. The output of the neuron is passed through a hyperbolic tangent activation function:\n",
    "\n",
    "$$\n",
    "f(x) = \\tanh(w_1x_1 + w_2x_2 + b)\n",
    "$$\n",
    "\n",
    "The hyperbolic tangent function, $\\tanh(x)$, is defined as:\n",
    "\n",
    "$$\n",
    "\\tanh(x) = \\frac{e^{x} - e^{-x}}{e^{x} + e^{-x}}\n",
    "$$\n",
    "\n",
    "**Compute the partial derivatives of the function $f(x)$ with respect to $w_1$.**"
   ]
  },
  {
   "cell_type": "markdown",
   "metadata": {
    "id": "t-fAoasw3axl"
   },
   "source": [
    "-- Your solution here"
   ]
  },
  {
   "cell_type": "markdown",
   "metadata": {
    "id": "PkvTVdq15T0g"
   },
   "source": [
    "# **Task 7 (Optional):** Implementing Custom Optimizers in PyTorch"
   ]
  },
  {
   "cell_type": "markdown",
   "metadata": {
    "id": "Xqhlw6vm7s6a"
   },
   "source": [
    "In this task, you will delve into the mechanics of optimization algorithms in deep learning by creating custom optimizer classes in PyTorch. Optimizers are the engines that power the learning process, updating model weights based on gradients to minimize loss functions. You will start by understanding the foundational principles of the Gradient Descent optimizer. Following this, you will **implement** custom versions of more advanced optimizers such as Stochastic Gradient Descent (SGD), Momentum, and Adam, and **compare** their performance with PyTorch's built-in optimizers."
   ]
  },
  {
   "cell_type": "code",
   "execution_count": 10,
   "metadata": {
    "colab": {
     "base_uri": "https://localhost:8080/"
    },
    "id": "AR6-L2NCUuMS",
    "outputId": "e5ace9ce-555d-4c99-9118-47b3bc168f25"
   },
   "outputs": [
    {
     "name": "stdout",
     "output_type": "stream",
     "text": [
      "Updated model weights: tensor([[-0.1797]])\n"
     ]
    }
   ],
   "source": [
    "class GradientDescentOptimizer:\n",
    "    \"\"\"\n",
    "    Custom implementation of the gradient descent optimization algorithm.\n",
    "    \"\"\"\n",
    "    def __init__(self, parameters, learning_rate):\n",
    "        \"\"\"\n",
    "        Initializes the GradientDescentOptimizer.\n",
    "\n",
    "        Args:\n",
    "            parameters (iterable): Iterable of parameters to optimize or dicts defining parameter groups.\n",
    "            learning_rate (float): Learning rate for the optimizer.\n",
    "        \"\"\"\n",
    "        self.parameters = list(parameters)\n",
    "        self.learning_rate = learning_rate\n",
    "\n",
    "    def step(self):\n",
    "        \"\"\"\n",
    "        Performs a single optimization step using gradient descent.\n",
    "\n",
    "        :return: None\n",
    "        \"\"\"\n",
    "        ########################################################################\n",
    "        # TODO: Implement the gradient descent update step.                    #\n",
    "        ########################################################################\n",
    "        with torch.no_grad():\n",
    "            for param in self.parameters:\n",
    "                if param.grad is not None:\n",
    "                    param.data -= self.learning_rate * param.grad\n",
    "        ########################################################################\n",
    "        #                           END OF YOUR CODE                           #\n",
    "        ########################################################################\n",
    "\n",
    "    def zero_grad(self):\n",
    "        \"\"\"\n",
    "        Clears gradients of all optimized parameters.\n",
    "        \"\"\"\n",
    "        ########################################################################\n",
    "        # TODO: Clear gradients of all parameters.                             #\n",
    "        ########################################################################\n",
    "        for param in self.parameters:\n",
    "            if param.grad is not None:\n",
    "                param.grad.zero_()\n",
    "        ########################################################################\n",
    "        #                           END OF YOUR CODE                           #\n",
    "        ########################################################################\n",
    "\n",
    "\n",
    "# Example usage\n",
    "if __name__ == \"__main__\":\n",
    "    # Define a simple model and a sample loss function\n",
    "    model = torch.nn.Linear(1, 1)\n",
    "    loss_fn = torch.nn.MSELoss()\n",
    "\n",
    "    # Define sample input and target data\n",
    "    input_data = torch.tensor([[1.0], [2.0]], requires_grad=True)\n",
    "    target_data = torch.tensor([[2.0], [4.0]])\n",
    "\n",
    "    # Initialize the custom optimizer\n",
    "    optimizer = GradientDescentOptimizer(model.parameters(), learning_rate=0.01)\n",
    "\n",
    "    # Forward pass: Compute predicted y by passing input_data to the model\n",
    "    predicted_y = model(input_data)\n",
    "\n",
    "    # Compute loss\n",
    "    loss = loss_fn(predicted_y, target_data)\n",
    "\n",
    "    # Zero gradients, perform a backward pass, and update the weights.\n",
    "    optimizer.zero_grad()\n",
    "    loss.backward()\n",
    "    optimizer.step()\n",
    "\n",
    "    print(f\"Updated model weights: {model.weight.data}\")"
   ]
  },
  {
   "cell_type": "code",
   "execution_count": 11,
   "metadata": {
    "id": "NEyh5JA7XPGm"
   },
   "outputs": [
    {
     "name": "stdout",
     "output_type": "stream",
     "text": [
      "Updated model1 weights (Custom SGD): tensor([[-0.0349]]), bias: tensor([-0.3047])\n",
      "Updated model2 weights (PyTorch SGD): tensor([[-0.0349]]), bias: tensor([-0.3047])\n"
     ]
    },
    {
     "name": "stderr",
     "output_type": "stream",
     "text": [
      "/Users/tigrangaplanyan/anaconda3/envs/GenAI/lib/python3.11/site-packages/tqdm/auto.py:21: TqdmWarning: IProgress not found. Please update jupyter and ipywidgets. See https://ipywidgets.readthedocs.io/en/stable/user_install.html\n",
      "  from .autonotebook import tqdm as notebook_tqdm\n"
     ]
    }
   ],
   "source": [
    "class SGDOptimizer:\n",
    "    \"\"\"\n",
    "    Custom implementation of the stochastic gradient descent optimization algorithm.\n",
    "\n",
    "    Attributes:\n",
    "        parameters (iterable): Iterable of parameters to optimize or dicts defining parameter groups.\n",
    "        learning_rate (float): Learning rate for the optimizer.\n",
    "    \"\"\"\n",
    "    def __init__(self, parameters, learning_rate):\n",
    "        \"\"\"\n",
    "        Initializes the SGDOptimizer.\n",
    "\n",
    "        Args:\n",
    "            parameters (iterable): Iterable of parameters to optimize or dicts defining parameter groups.\n",
    "            learning_rate (float): Learning rate for the optimizer.\n",
    "        \"\"\"\n",
    "        ########################################################################\n",
    "        # TODO: Initialize parameters and learning rate.                       #\n",
    "        ########################################################################\n",
    "        self.parameters = list(parameters)\n",
    "        self.learning_rate = learning_rate\n",
    "        ########################################################################\n",
    "        #                           END OF YOUR CODE                           #\n",
    "        ########################################################################\n",
    "\n",
    "    def step(self):\n",
    "        \"\"\"\n",
    "        Perform a single optimization step using SGD.\n",
    "\n",
    "        :return: None\n",
    "        \"\"\"\n",
    "        ########################################################################\n",
    "        # TODO: Implement the SGD update step.                                 #\n",
    "        ########################################################################\n",
    "        with torch.no_grad():\n",
    "            for param in self.parameters:\n",
    "                if param.grad is not None:\n",
    "                    # Update the parameter based on the current gradient\n",
    "                    param.data -= self.learning_rate * param.grad\n",
    "        ########################################################################\n",
    "        #                           END OF YOUR CODE                           #\n",
    "        ########################################################################\n",
    "\n",
    "    def zero_grad(self):\n",
    "        \"\"\"\n",
    "        Clear gradients of all optimized parameters.\n",
    "        \"\"\"\n",
    "        ########################################################################\n",
    "        # TODO: Clear gradients of all parameters.                             #\n",
    "        ########################################################################\n",
    "        for param in self.parameters:\n",
    "            if param.grad is not None:\n",
    "                param.grad.zero_()\n",
    "        ########################################################################\n",
    "        #                           END OF YOUR CODE                           #\n",
    "        ########################################################################\n",
    "\n",
    "# Example usage\n",
    "if __name__ == \"__main__\":\n",
    "    # TODO: Repeat the process above for the SGD optimizer\n",
    "    # Define a simple model and a sample loss function\n",
    "    model1 = nn.Linear(1, 1)\n",
    "    model2 = nn.Linear(1, 1)\n",
    "    loss_fn = nn.MSELoss()\n",
    "    model2.weight = nn.Parameter(model1.weight.clone())\n",
    "    model2.bias = nn.Parameter(model1.bias.clone())\n",
    "\n",
    "    # Define sample input and target data\n",
    "    input_data = torch.tensor([[1.0], [2.0]])\n",
    "    target_data = torch.tensor([[2.0], [4.0]])\n",
    "\n",
    "    # Initialize the custom optimizer\n",
    "    optimizer1 = GradientDescentOptimizer(model1.parameters(), learning_rate=0.01)\n",
    "    optimizer2 = torch.optim.SGD(model2.parameters(), lr=0.01)\n",
    "\n",
    "    # Forward pass: Compute predicted y by passing input_data to the model\n",
    "    # Compute loss\n",
    "    # Zero gradients, perform a backward pass, and update the weights.\n",
    "    optimizer1.zero_grad()\n",
    "    predicted_y1 = model1(input_data)\n",
    "    loss1 = loss_fn(predicted_y1, target_data)\n",
    "    loss1.backward()\n",
    "    optimizer1.step()\n",
    "\n",
    "    # Forward pass: Compute predicted y by passing input_data to the model\n",
    "    # Compute loss\n",
    "    # Zero gradients, perform a backward pass, and update the weights.\n",
    "    optimizer2.zero_grad()\n",
    "    predicted_y2 = model2(input_data)\n",
    "    loss2 = loss_fn(predicted_y2, target_data)\n",
    "    loss2.backward()\n",
    "    optimizer2.step()\n",
    "\n",
    "    print(f\"Updated model1 weights (Custom SGD): {model1.weight.data}, bias: {model1.bias.data}\")\n",
    "    print(f\"Updated model2 weights (PyTorch SGD): {model2.weight.data}, bias: {model2.bias.data}\")"
   ]
  },
  {
   "cell_type": "code",
   "execution_count": 12,
   "metadata": {
    "id": "a79dqDEqZNLw"
   },
   "outputs": [
    {
     "name": "stdout",
     "output_type": "stream",
     "text": [
      "Updated model1 weights (Custom SGD): tensor([[-0.8152]]), bias: tensor([0.8463])\n",
      "Updated model2 weights (PyTorch SGD): tensor([[-0.8152]]), bias: tensor([0.8463])\n"
     ]
    }
   ],
   "source": [
    "class MomentumOptimizer:\n",
    "    \"\"\"\n",
    "    Custom implementation of the stochastic gradient descent optimization algorithm with momentum.\n",
    "    \"\"\"\n",
    "    def __init__(self, parameters, learning_rate, momentum=0.9):\n",
    "        \"\"\"\n",
    "        Initializes the MomentumOptimizer.\n",
    "\n",
    "        Args:\n",
    "            parameters (iterable): Iterable of parameters to optimize or dicts defining parameter groups.\n",
    "            learning_rate (float): Learning rate for the optimizer.\n",
    "            momentum (float): Momentum factor (default: 0.9).\n",
    "        \"\"\"\n",
    "        ########################################################################\n",
    "        # TODO: Initialize parameters, learning rate, and momentum.            #\n",
    "        ########################################################################\n",
    "        self.parameters = list(parameters)\n",
    "        self.learning_rate = learning_rate\n",
    "        self.momentum = momentum\n",
    "        self.velocities = [torch.zeros_like(p.data) for p in self.parameters]\n",
    "        ########################################################################\n",
    "        #                           END OF YOUR CODE                           #\n",
    "        ########################################################################\n",
    "\n",
    "    def step(self):\n",
    "        \"\"\"\n",
    "        Perform a single optimization step using SGD with momentum.\n",
    "\n",
    "        :return: None\n",
    "        \"\"\"\n",
    "        ########################################################################\n",
    "        # TODO: Implement the momentum update step.                            #\n",
    "        ########################################################################\n",
    "        with torch.no_grad():\n",
    "            for param, velocity in zip(self.parameters, self.velocities):\n",
    "                if param.grad is not None:\n",
    "                    # Update the velocities\n",
    "                    velocity.mul_(self.momentum).add_(param.grad, alpha=self.learning_rate)\n",
    "                    # Update the parameters\n",
    "                    param.sub_(velocity)\n",
    "        ########################################################################\n",
    "        #                           END OF YOUR CODE                           #\n",
    "        ########################################################################\n",
    "\n",
    "    def zero_grad(self):\n",
    "        \"\"\"\n",
    "        Clear gradients of all optimized parameters.\n",
    "        \"\"\"\n",
    "        ########################################################################\n",
    "        # TODO: Clear gradients of all parameters.                             #\n",
    "        ########################################################################\n",
    "        for param in self.parameters:\n",
    "            if param.grad is not None:\n",
    "                param.grad.zero_()\n",
    "        ########################################################################\n",
    "        #                           END OF YOUR CODE                           #\n",
    "        ########################################################################\n",
    "\n",
    "\n",
    "# Example usage\n",
    "if __name__ == \"__main__\":\n",
    "    # TODO: Repeat the process above for the SGD with momentum optimizer\n",
    "    # Define a simple model and a sample loss function\n",
    "    model1 = nn.Linear(1, 1)\n",
    "    model2 = nn.Linear(1, 1)\n",
    "    loss_fn = nn.MSELoss()\n",
    "    model2.weight = nn.Parameter(model1.weight.clone())\n",
    "    model2.bias = nn.Parameter(model1.bias.clone())\n",
    "\n",
    "    # Define sample input and target data\n",
    "    input_data = torch.tensor([[1.0], [2.0]])\n",
    "    target_data = torch.tensor([[2.0], [4.0]])\n",
    "\n",
    "    # Initialize the custom optimizer\n",
    "    optimizer1 = MomentumOptimizer(model1.parameters(), learning_rate=0.01, momentum=0.9)\n",
    "    optimizer2 = torch.optim.SGD(model2.parameters(), lr=0.01, momentum=0.9)\n",
    "\n",
    "    # Forward pass: Compute predicted y by passing input_data to the model\n",
    "    # Compute loss\n",
    "    # Zero gradients, perform a backward pass, and update the weights.\n",
    "    optimizer1.zero_grad()\n",
    "    predicted_y1 = model1(input_data)\n",
    "    loss1 = loss_fn(predicted_y1, target_data)\n",
    "    loss1.backward()\n",
    "    optimizer1.step()\n",
    "\n",
    "    # Forward pass: Compute predicted y by passing input_data to the model\n",
    "    # Compute loss\n",
    "    # Zero gradients, perform a backward pass, and update the weights.\n",
    "    optimizer2.zero_grad()\n",
    "    predicted_y2 = model2(input_data)\n",
    "    loss2 = loss_fn(predicted_y2, target_data)\n",
    "    loss2.backward()\n",
    "    optimizer2.step()\n",
    "\n",
    "    print(f\"Updated model1 weights (Custom SGD): {model1.weight.data}, bias: {model1.bias.data}\")\n",
    "    print(f\"Updated model2 weights (PyTorch SGD): {model2.weight.data}, bias: {model2.bias.data}\")"
   ]
  },
  {
   "cell_type": "code",
   "execution_count": 13,
   "metadata": {
    "id": "Sk77xoapZvja"
   },
   "outputs": [
    {
     "name": "stdout",
     "output_type": "stream",
     "text": [
      "Updated model1 weights (Custom SGD): tensor([[-0.1830]]), bias: tensor([0.9239])\n",
      "Updated model2 weights (PyTorch SGD): tensor([[-0.1830]]), bias: tensor([0.9239])\n"
     ]
    }
   ],
   "source": [
    "class AdamOptimizer:\n",
    "    \"\"\"\n",
    "    Custom implementation of the Adam optimization algorithm.\n",
    "    \"\"\"\n",
    "    def __init__(self, parameters, learning_rate=0.001, betas=(0.9, 0.999), eps=1e-8):\n",
    "        \"\"\"\n",
    "        Initializes the AdamOptimizer.\n",
    "\n",
    "        Args:\n",
    "            parameters (iterable): Iterable of parameters to optimize or dicts defining parameter groups.\n",
    "            learning_rate (float): Learning rate for the optimizer.\n",
    "            betas (Tuple[float, float]): Coefficients used for computing running averages of gradient and its square.\n",
    "            eps (float): Term added to the denominator to improve numerical stability.\n",
    "        \"\"\"\n",
    "        ########################################################################\n",
    "        # TODO: Initialize parameters, learning rate, betas, and eps.          #\n",
    "        ########################################################################\n",
    "        self.parameters = list(parameters)\n",
    "        self.learning_rate = learning_rate\n",
    "        self.betas = betas\n",
    "        self.eps = eps\n",
    "        self.t = 0\n",
    "        self.m = [torch.zeros_like(p.data) for p in self.parameters]\n",
    "        self.v = [torch.zeros_like(p.data) for p in self.parameters]\n",
    "        ########################################################################\n",
    "        #                           END OF YOUR CODE                           #\n",
    "        ########################################################################\n",
    "\n",
    "    def step(self):\n",
    "        \"\"\"\n",
    "        Perform a single optimization step using Adam.\n",
    "\n",
    "        :return: None\n",
    "        \"\"\"\n",
    "        ########################################################################\n",
    "        # TODO: Implement the Adam update step.                                #\n",
    "        ########################################################################\n",
    "        self.t += 1\n",
    "        with torch.no_grad():\n",
    "            for param, m, v in zip(self.parameters, self.m, self.v):\n",
    "                if param.grad is not None:\n",
    "                    # Update biased first moment estimate\n",
    "                    m.mul_(self.betas[0]).add_(param.grad, alpha=1 - self.betas[0])\n",
    "                    # Update biased second raw moment estimate\n",
    "                    v.mul_(self.betas[1]).addcmul_(param.grad, param.grad, value=1 - self.betas[1])\n",
    "\n",
    "                    # Compute bias-corrected first moment estimate\n",
    "                    m_hat = m / (1 - self.betas[0] ** self.t)\n",
    "                    # Compute bias-corrected second raw moment estimate\n",
    "                    v_hat = v / (1 - self.betas[1] ** self.t)\n",
    "\n",
    "                    # Update parameters\n",
    "                    param.addcdiv_(m_hat, v_hat.sqrt().add_(self.eps), value=-self.learning_rate)\n",
    "        ########################################################################\n",
    "        #                           END OF YOUR CODE                           #\n",
    "        ########################################################################\n",
    "\n",
    "    def zero_grad(self):\n",
    "        \"\"\"\n",
    "        Clear gradients of all optimized parameters.\n",
    "        \"\"\"\n",
    "        ########################################################################\n",
    "        # TODO: Clear gradients of all parameters.                             #\n",
    "        ########################################################################\n",
    "        for param in self.parameters:\n",
    "            if param.grad is not None:\n",
    "                param.grad.zero_()\n",
    "        ########################################################################\n",
    "        #                           END OF YOUR CODE                           #\n",
    "        ########################################################################\n",
    "\n",
    "# Example usage\n",
    "if __name__ == \"__main__\":\n",
    "    # TODO: Repeat the process above for the Adam optimizer\n",
    "    # Define a simple model and a sample loss function\n",
    "    model1 = nn.Linear(1, 1)\n",
    "    model2 = nn.Linear(1, 1)\n",
    "    loss_fn = nn.MSELoss()\n",
    "    model2.weight = nn.Parameter(model1.weight.clone())\n",
    "    model2.bias = nn.Parameter(model1.bias.clone())\n",
    "\n",
    "    # Define sample input and target data\n",
    "    input_data = torch.tensor([[1.0], [2.0]])\n",
    "    target_data = torch.tensor([[2.0], [4.0]])\n",
    "\n",
    "    # Initialize the custom optimizer\n",
    "    optimizer1 = AdamOptimizer(model1.parameters(), learning_rate=0.01)\n",
    "    optimizer2 = torch.optim.Adam(model2.parameters(), lr=0.01)\n",
    "\n",
    "    # Forward pass: Compute predicted y by passing input_data to the model\n",
    "    # Compute loss\n",
    "    # Zero gradients, perform a backward pass, and update the weights.\n",
    "    optimizer1.zero_grad()\n",
    "    predicted_y1 = model1(input_data)\n",
    "    loss1 = loss_fn(predicted_y1, target_data)\n",
    "    loss1.backward()\n",
    "    optimizer1.step()\n",
    "\n",
    "    # Forward pass: Compute predicted y by passing input_data to the model\n",
    "    # Compute loss\n",
    "    # Zero gradients, perform a backward pass, and update the weights.\n",
    "    optimizer2.zero_grad()\n",
    "    predicted_y2 = model2(input_data)\n",
    "    loss2 = loss_fn(predicted_y2, target_data)\n",
    "    loss2.backward()\n",
    "    optimizer2.step()\n",
    "\n",
    "    print(f\"Updated model1 weights (Custom SGD): {model1.weight.data}, bias: {model1.bias.data}\")\n",
    "    print(f\"Updated model2 weights (PyTorch SGD): {model2.weight.data}, bias: {model2.bias.data}\")"
   ]
  },
  {
   "cell_type": "code",
   "execution_count": null,
   "metadata": {},
   "outputs": [],
   "source": []
  }
 ],
 "metadata": {
  "colab": {
   "provenance": []
  },
  "kernelspec": {
   "display_name": "Python 3 (ipykernel)",
   "language": "python",
   "name": "python3"
  },
  "language_info": {
   "codemirror_mode": {
    "name": "ipython",
    "version": 3
   },
   "file_extension": ".py",
   "mimetype": "text/x-python",
   "name": "python",
   "nbconvert_exporter": "python",
   "pygments_lexer": "ipython3",
   "version": "3.11.7"
  }
 },
 "nbformat": 4,
 "nbformat_minor": 4
}
